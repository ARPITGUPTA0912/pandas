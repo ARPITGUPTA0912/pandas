{
 "cells": [
  {
   "cell_type": "code",
   "execution_count": 1,
   "metadata": {},
   "outputs": [
    {
     "name": "stdout",
     "output_type": "stream",
     "text": [
      "        course_name  duration\n",
      "0      Data Science         2\n",
      "1  Machine Learning         3\n",
      "2          Big Data         6\n",
      "3     Data Engineer         4\n"
     ]
    }
   ],
   "source": [
    "import pandas as pd\n",
    "course_name = ['Data Science', 'Machine Learning', 'Big Data',' Data Engineer']\n",
    "duration = [2,3,6,4]\n",
    "df = pd.DataFrame(data = {'course_name' : course_name, 'duration' : duration})\n",
    "print(df.head())\n",
    "\n"
   ]
  },
  {
   "cell_type": "code",
   "execution_count": 2,
   "metadata": {},
   "outputs": [
    {
     "name": "stdout",
     "output_type": "stream",
     "text": [
      "course_name    Machine Learning\n",
      "duration                      3\n",
      "Name: 1, dtype: object\n"
     ]
    }
   ],
   "source": [
    "q1='Q1. Write a code to print the data present in the second row of the dataframe'\n",
    "def two(df):\n",
    "    print(df.iloc[1,])\n",
    "   \n",
    "    \n",
    "two(df)"
   ]
  },
  {
   "cell_type": "code",
   "execution_count": null,
   "metadata": {},
   "outputs": [
    {
     "name": "stdout",
     "output_type": "stream",
     "text": [
      "Q2. What is the difference between the functions loc and iloc in pandas.DataFrame?\n",
      "loc selects rows and columns with specific labels\n",
      "iloc selects rows and columns at specific integer positions\n",
      "course_name    Big Data\n",
      "duration              6\n",
      "Name: 2, dtype: object\n"
     ]
    }
   ],
   "source": [
    "q2='Q2. What is the difference between the functions loc and iloc in pandas.DataFrame?'\n",
    "ans2='''loc selects rows and columns with specific labels\n",
    "iloc selects rows and columns at specific integer positions'''\n",
    "print(q2)\n",
    "print(ans2)\n",
    "print(df.loc[2])"
   ]
  },
  {
   "attachments": {},
   "cell_type": "markdown",
   "metadata": {},
   "source": []
  },
  {
   "cell_type": "code",
   "execution_count": null,
   "metadata": {},
   "outputs": [
    {
     "name": "stdout",
     "output_type": "stream",
     "text": [
      "Q3. Reindex the given dataframe using a variable, reindex = [3,0,1,2] and store it in the variable, new_df\n",
      "then find the output for both new_df.loc[2] and new_df.iloc[2].\n",
      "        course_name  duration\n",
      "3     Data Engineer         4\n",
      "0      Data Science         2\n",
      "1  Machine Learning         3\n",
      "2          Big Data         6\n",
      "loc\n",
      "   course_name  duration\n",
      "2    Big Data         6\n",
      "iloc\n",
      "         course_name  duration\n",
      "1  Machine Learning         3\n",
      "loc selects rows with label so it print index with label 2 whereas iloc print the value of int value which is present at 3rd row(iloc[2])\n"
     ]
    }
   ],
   "source": [
    "q3='''Q3. Reindex the given dataframe using a variable, reindex = [3,0,1,2] and store it in the variable, new_df\n",
    "then find the output for both new_df.loc[2] and new_df.iloc[2].'''\n",
    "print(q3)\n",
    "new_df= df.reindex(index=[3,0,1,2])\n",
    "print(new_df.head())\n",
    "print('loc\\n',new_df.loc[[2]])\n",
    "print('iloc\\n',new_df.iloc[[2]])\n",
    "ans3='loc selects rows with label so it print index with label 2 whereas iloc print the value of int value which is present at 3rd row(iloc[2])'\n",
    "print(ans3)\n"
   ]
  },
  {
   "cell_type": "code",
   "execution_count": null,
   "metadata": {},
   "outputs": [
    {
     "data": {
      "text/html": [
       "<div>\n",
       "<style scoped>\n",
       "    .dataframe tbody tr th:only-of-type {\n",
       "        vertical-align: middle;\n",
       "    }\n",
       "\n",
       "    .dataframe tbody tr th {\n",
       "        vertical-align: top;\n",
       "    }\n",
       "\n",
       "    .dataframe thead th {\n",
       "        text-align: right;\n",
       "    }\n",
       "</style>\n",
       "<table border=\"1\" class=\"dataframe\">\n",
       "  <thead>\n",
       "    <tr style=\"text-align: right;\">\n",
       "      <th></th>\n",
       "      <th>column_1</th>\n",
       "      <th>column_2</th>\n",
       "      <th>column_3</th>\n",
       "      <th>column_4</th>\n",
       "      <th>column_5</th>\n",
       "      <th>column_6</th>\n",
       "    </tr>\n",
       "  </thead>\n",
       "  <tbody>\n",
       "    <tr>\n",
       "      <th>1</th>\n",
       "      <td>0.742602</td>\n",
       "      <td>0.294503</td>\n",
       "      <td>0.605685</td>\n",
       "      <td>0.605511</td>\n",
       "      <td>0.049799</td>\n",
       "      <td>0.523748</td>\n",
       "    </tr>\n",
       "    <tr>\n",
       "      <th>2</th>\n",
       "      <td>0.266590</td>\n",
       "      <td>0.163482</td>\n",
       "      <td>0.695607</td>\n",
       "      <td>0.262520</td>\n",
       "      <td>0.352948</td>\n",
       "      <td>0.077063</td>\n",
       "    </tr>\n",
       "    <tr>\n",
       "      <th>3</th>\n",
       "      <td>0.597996</td>\n",
       "      <td>0.465922</td>\n",
       "      <td>0.790141</td>\n",
       "      <td>0.269160</td>\n",
       "      <td>0.276890</td>\n",
       "      <td>0.829086</td>\n",
       "    </tr>\n",
       "    <tr>\n",
       "      <th>4</th>\n",
       "      <td>0.997405</td>\n",
       "      <td>0.293308</td>\n",
       "      <td>0.736630</td>\n",
       "      <td>0.318050</td>\n",
       "      <td>0.495575</td>\n",
       "      <td>0.275875</td>\n",
       "    </tr>\n",
       "    <tr>\n",
       "      <th>5</th>\n",
       "      <td>0.133743</td>\n",
       "      <td>0.625987</td>\n",
       "      <td>0.272891</td>\n",
       "      <td>0.379318</td>\n",
       "      <td>0.674761</td>\n",
       "      <td>0.919877</td>\n",
       "    </tr>\n",
       "  </tbody>\n",
       "</table>\n",
       "</div>"
      ],
      "text/plain": [
       "   column_1  column_2  column_3  column_4  column_5  column_6\n",
       "1  0.742602  0.294503  0.605685  0.605511  0.049799  0.523748\n",
       "2  0.266590  0.163482  0.695607  0.262520  0.352948  0.077063\n",
       "3  0.597996  0.465922  0.790141  0.269160  0.276890  0.829086\n",
       "4  0.997405  0.293308  0.736630  0.318050  0.495575  0.275875\n",
       "5  0.133743  0.625987  0.272891  0.379318  0.674761  0.919877"
      ]
     },
     "execution_count": 10,
     "metadata": {},
     "output_type": "execute_result"
    }
   ],
   "source": [
    "import pandas as pd\n",
    "import numpy as np\n",
    "columns = ['column_1', 'column_2', 'column_3', 'column_4', 'column_5', 'column_6']\n",
    "indices = [1,2,3,4,5,6]\n",
    "#Creating a dataframe:\n",
    "df1 = pd.DataFrame(np.random.rand(6,6), columns = columns, index = indices)\n",
    "df1.head()"
   ]
  },
  {
   "cell_type": "code",
   "execution_count": null,
   "metadata": {},
   "outputs": [
    {
     "name": "stdout",
     "output_type": "stream",
     "text": [
      "Q4. Write a code to find the following statistical measurements for the above dataframe df1:\n",
      "(i) mean of each and every column present in the dataframe.\n",
      "(ii) standard deviation of column, ‘column_2’\n",
      "mean of each column\n",
      " column_1    0.579743\n",
      "column_2    0.310980\n",
      "column_3    0.622869\n",
      "column_4    0.438820\n",
      "column_5    0.321210\n",
      "column_6    0.500728\n",
      "dtype: float64\n",
      "std of column 2  : 0.21386626683730342\n"
     ]
    }
   ],
   "source": [
    "q4='''Q4. Write a code to find the following statistical measurements for the above dataframe df1:\n",
    "(i) mean of each and every column present in the dataframe.\n",
    "(ii) standard deviation of column, ‘column_2’'''\n",
    "print (q4)\n",
    "print('mean of each column\\n',df1.mean())\n",
    "print('std of column 2  :',df1['column_2'].std())"
   ]
  },
  {
   "cell_type": "code",
   "execution_count": null,
   "metadata": {},
   "outputs": [
    {
     "name": "stdout",
     "output_type": "stream",
     "text": [
      "Q5. Replace the data present in the second row of column, column_2 by a string variable then \n",
      "find the mean of column, column_2.\n",
      "If you are getting errors in executing it then explain why.\n",
      " this is because its data type change to object \n"
     ]
    },
    {
     "name": "stderr",
     "output_type": "stream",
     "text": [
      "C:\\Users\\asus\\AppData\\Local\\Temp\\ipykernel_12120\\1949075811.py:7: FutureWarning: Dropping of nuisance columns in DataFrame reductions (with 'numeric_only=None') is deprecated; in a future version this will raise TypeError.  Select only valid columns before calling the reduction.\n",
      "  df1.mean()\n"
     ]
    },
    {
     "data": {
      "text/plain": [
       "dtype('O')"
      ]
     },
     "execution_count": 12,
     "metadata": {},
     "output_type": "execute_result"
    }
   ],
   "source": [
    "q5='''Q5. Replace the data present in the second row of column, column_2 by a string variable then \n",
    "find the mean of column, column_2.\n",
    "If you are getting errors in executing it then explain why.'''\n",
    "print(q5)\n",
    "n= df1['column_2'] [2]\n",
    "df1 =df1.replace(n, 'ssd')\n",
    "df1.mean()\n",
    "ans5 = ' this is because its data type change to object '\n",
    "print(ans5)\n",
    "df1['column_2'].dtype"
   ]
  },
  {
   "cell_type": "code",
   "execution_count": null,
   "metadata": {},
   "outputs": [
    {
     "name": "stdout",
     "output_type": "stream",
     "text": [
      "Q6. What do you understand about the windows function in pandas and list the types of\n",
      "windows functions?\n",
      "Window functions allow us to perform an operation with a given row's data and\n",
      "data from another row that is a specified number of rows away — this “number of rows away value” \n",
      "is called the window.\n",
      "Overview of the various Windows functions in Python such as Group by, Rolling, Expanding,\n",
      "and Exponentially Weighted window.\n"
     ]
    }
   ],
   "source": [
    "q6='''Q6. What do you understand about the windows function in pandas and list the types of\n",
    "windows functions?'''\n",
    "print(q6)\n",
    "ans6='''Window functions allow us to perform an operation with a given row's data and\n",
    "data from another row that is a specified number of rows away — this “number of rows away value” \n",
    "is called the window.\n",
    "Overview of the various Windows functions in Python such as Group by, Rolling, Expanding,\n",
    "and Exponentially Weighted window.'''\n",
    "print(ans6)"
   ]
  },
  {
   "cell_type": "code",
   "execution_count": null,
   "metadata": {},
   "outputs": [
    {
     "name": "stdout",
     "output_type": "stream",
     "text": [
      "Q7. Write a code to print only the current month and year at the time of answering this question.\n",
      "2023\n",
      "6\n"
     ]
    }
   ],
   "source": [
    "import datetime as dt\n",
    "q7='Q7. Write a code to print only the current month and year at the time of answering this question.'\n",
    "print(q7)\n",
    "year= dt.date.today().year\n",
    "month= dt.date.today().month\n",
    "print(year)\n",
    "print(month)"
   ]
  },
  {
   "cell_type": "code",
   "execution_count": null,
   "metadata": {},
   "outputs": [
    {
     "name": "stdout",
     "output_type": "stream",
     "text": [
      "Q8. Write a Python program that takes in two dates as input (in the format YYYY-MM-DD) and\n",
      "calculates the difference between them in days, hours, and minutes using Pandas time delta. The\n",
      "program should prompt the user to enter the dates and display the result.\n",
      "The Difference is 171 days 00:00:00\n"
     ]
    }
   ],
   "source": [
    "q8='''Q8. Write a Python program that takes in two dates as input (in the format YYYY-MM-DD) and\n",
    "calculates the difference between them in days, hours, and minutes using Pandas time delta. The\n",
    "program should prompt the user to enter the dates and display the result.'''\n",
    "print(q8)\n",
    "def date():\n",
    "    date1 = input('enter date 1')\n",
    "\n",
    "    date2= input('enter date 2 ')\n",
    "   \n",
    "    date1 = pd.to_datetime(date1)\n",
    "    \n",
    "    date2=pd.to_datetime(date2)\n",
    "   \n",
    "    diff= pd.Timedelta(date2-date1)\n",
    "    diff.seconds\n",
    "    \n",
    "    print(\"The Difference is\",diff)\n",
    "    \n",
    "date()"
   ]
  },
  {
   "cell_type": "code",
   "execution_count": 33,
   "metadata": {},
   "outputs": [
    {
     "name": "stdout",
     "output_type": "stream",
     "text": [
      "   Name         Sex  age  height  weight\n",
      "0  Alex         \"M\"  NaN      74     170\n",
      "1  Bert         \"M\"  NaN      68     166\n",
      "2  Carl         \"M\"  NaN      70     155\n",
      "3  Dave         \"M\"  NaN      72     167\n",
      "4  Elly         \"F\"  NaN      66     124\n",
      "5  Fran         \"F\"  NaN      66     115\n",
      "6  Gwen         \"F\"  NaN      64     121\n",
      "7  Hank         \"M\"  NaN      71     158\n",
      "8  Ivan         \"M\"  NaN      72     175\n",
      "9  Jake         \"M\"  NaN      69     143\n"
     ]
    }
   ],
   "source": [
    "q9=\"\"\"Q9. Write a Python program that reads a CSV file containing categorical data and converts a specified\n",
    "column to a categorical data type. The program should prompt the user to enter the file path, column\n",
    "name, and category order, and then display the sorted data.\"\"\"\n",
    "\n",
    "\n",
    "\n",
    "# Prompt user to enter file path and column name\n",
    "file_path = input(r\"Enter file path: \")\n",
    "column_name = input(\"Enter column name: \")\n",
    "\n",
    "# Load CSV data into a DataFrame\n",
    "df = pd.read_csv(file_path)\n",
    "\n",
    "# Prompt user to enter category order as a comma-separated string\n",
    "category_order = input(\"Enter category order (comma-separated): \")\n",
    "category_order = [x.strip() for x in category_order.split(',')]\n",
    "\n",
    "# Convert column to categorical data type with specified category order\n",
    "df[column_name] = pd.Categorical(df[column_name], categories=category_order, ordered=True)\n",
    "\n",
    "# Sort data by the categorical column\n",
    "df = df.sort_values(by=[column_name])\n",
    "\n",
    "# Display sorted data\n",
    "print(df.head(10))\n"
   ]
  },
  {
   "cell_type": "code",
   "execution_count": 38,
   "metadata": {},
   "outputs": [
    {
     "data": {
      "image/png": "[encoded data removed]",
      "text/plain": [
       "<Figure size 640x480 with 1 Axes>"
      ]
     },
     "metadata": {},
     "output_type": "display_data"
    }
   ],
   "source": [
    "q10='''Q10. Write a Python program that reads a CSV file containing sales data for different products and\n",
    "visualizes the data using a stacked bar chart to show the sales of each product category over time. The\n",
    "program should prompt the user to enter the file path and display the chart.'''\n",
    "import matplotlib.pyplot as plt\n",
    "df = pd.read_csv('sale.csv')\n",
    "plt.barh(df['product'], df['sale'])\n",
    "plt.show()"
   ]
  },
  {
   "cell_type": "code",
   "execution_count": 40,
   "metadata": {},
   "outputs": [
    {
     "data": {
      "text/html": [
       "<div>\n",
       "<style scoped>\n",
       "    .dataframe tbody tr th:only-of-type {\n",
       "        vertical-align: middle;\n",
       "    }\n",
       "\n",
       "    .dataframe tbody tr th {\n",
       "        vertical-align: top;\n",
       "    }\n",
       "\n",
       "    .dataframe thead th {\n",
       "        text-align: right;\n",
       "    }\n",
       "</style>\n",
       "<table border=\"1\" class=\"dataframe\">\n",
       "  <thead>\n",
       "    <tr style=\"text-align: right;\">\n",
       "      <th></th>\n",
       "      <th>maths</th>\n",
       "      <th>english</th>\n",
       "      <th>science</th>\n",
       "    </tr>\n",
       "  </thead>\n",
       "  <tbody>\n",
       "    <tr>\n",
       "      <th>count</th>\n",
       "      <td>18.000000</td>\n",
       "      <td>18.000000</td>\n",
       "      <td>18.000000</td>\n",
       "    </tr>\n",
       "    <tr>\n",
       "      <th>mean</th>\n",
       "      <td>34.666667</td>\n",
       "      <td>69.055556</td>\n",
       "      <td>146.722222</td>\n",
       "    </tr>\n",
       "    <tr>\n",
       "      <th>std</th>\n",
       "      <td>7.577055</td>\n",
       "      <td>3.522570</td>\n",
       "      <td>22.540958</td>\n",
       "    </tr>\n",
       "    <tr>\n",
       "      <th>min</th>\n",
       "      <td>23.000000</td>\n",
       "      <td>62.000000</td>\n",
       "      <td>98.000000</td>\n",
       "    </tr>\n",
       "    <tr>\n",
       "      <th>25%</th>\n",
       "      <td>30.000000</td>\n",
       "      <td>66.250000</td>\n",
       "      <td>132.000000</td>\n",
       "    </tr>\n",
       "    <tr>\n",
       "      <th>50%</th>\n",
       "      <td>32.500000</td>\n",
       "      <td>69.500000</td>\n",
       "      <td>150.000000</td>\n",
       "    </tr>\n",
       "    <tr>\n",
       "      <th>75%</th>\n",
       "      <td>38.750000</td>\n",
       "      <td>71.750000</td>\n",
       "      <td>165.250000</td>\n",
       "    </tr>\n",
       "    <tr>\n",
       "      <th>max</th>\n",
       "      <td>53.000000</td>\n",
       "      <td>75.000000</td>\n",
       "      <td>176.000000</td>\n",
       "    </tr>\n",
       "  </tbody>\n",
       "</table>\n",
       "</div>"
      ],
      "text/plain": [
       "           maths    english     science\n",
       "count  18.000000  18.000000   18.000000\n",
       "mean   34.666667  69.055556  146.722222\n",
       "std     7.577055   3.522570   22.540958\n",
       "min    23.000000  62.000000   98.000000\n",
       "25%    30.000000  66.250000  132.000000\n",
       "50%    32.500000  69.500000  150.000000\n",
       "75%    38.750000  71.750000  165.250000\n",
       "max    53.000000  75.000000  176.000000"
      ]
     },
     "execution_count": 40,
     "metadata": {},
     "output_type": "execute_result"
    }
   ],
   "source": [
    "q11='''Q11. You are given a CSV file containing student data that includes the student ID and their test score. Write\n",
    "a Python program that reads the CSV file, calculates the mean, median, and mode of the test scores, and\n",
    "displays the results in a table.'''\n",
    "file_path = input(r\"Enter file path: \")\n",
    "\n",
    "# Load CSV data into a DataFrame\n",
    "df = pd.read_csv(file_path)\n",
    "df.describe()"
   ]
  },
  {
   "attachments": {},
   "cell_type": "markdown",
   "metadata": {},
   "source": []
  },
  {
   "cell_type": "code",
   "execution_count": null,
   "metadata": {},
   "outputs": [],
   "source": []
  },
  {
   "cell_type": "code",
   "execution_count": null,
   "metadata": {},
   "outputs": [],
   "source": []
  },
  {
   "cell_type": "code",
   "execution_count": null,
   "metadata": {},
   "outputs": [],
   "source": []
  }
 ],
 "metadata": {
  "kernelspec": {
   "display_name": "base",
   "language": "python",
   "name": "python3"
  },
  "language_info": {
   "codemirror_mode": {
    "name": "ipython",
    "version": 3
   },
   "file_extension": ".py",
   "mimetype": "text/x-python",
   "name": "python",
   "nbconvert_exporter": "python",
   "pygments_lexer": "ipython3",
   "version": "3.9.13"
  },
  "orig_nbformat": 4
 },
 "nbformat": 4,
 "nbformat_minor": 2
}
