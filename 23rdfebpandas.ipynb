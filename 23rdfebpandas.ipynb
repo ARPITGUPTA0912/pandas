{
 "cells": [
  {
   "cell_type": "code",
   "execution_count": 11,
   "id": "21b7d1c2-d8d9-4ce5-88bc-118d74c8ff85",
   "metadata": {},
   "outputs": [],
   "source": [
    "import pandas as pd\n",
    "df = pd.Series([4,8,15,23,42])"
   ]
  },
  {
   "cell_type": "code",
   "execution_count": 12,
   "id": "551f3dbf-f0e8-4465-9e93-47ef948e221f",
   "metadata": {},
   "outputs": [
    {
     "name": "stdout",
     "output_type": "stream",
     "text": [
      "0     4\n",
      "1     8\n",
      "2    15\n",
      "3    23\n",
      "4    42\n",
      "dtype: int64\n"
     ]
    }
   ],
   "source": [
    "print(df)\n"
   ]
  },
  {
   "cell_type": "code",
   "execution_count": 13,
   "id": "d2231d64-d517-461f-bb93-888b567cabdf",
   "metadata": {},
   "outputs": [
    {
     "data": {
      "text/plain": [
       "[1, 2, 23, 66, 33, 55, 35, 56, 564.55, 556, 356, 435, 45, 22]"
      ]
     },
     "execution_count": 13,
     "metadata": {},
     "output_type": "execute_result"
    }
   ],
   "source": [
    "a=[1,2,45,66,33,55,35,56,564.55,556,356,435,45]\n",
    "\n",
    "a[2]=23\n",
    "a.append(22)\n",
    "a"
   ]
  },
  {
   "cell_type": "code",
   "execution_count": 14,
   "id": "1fd4888e-be08-4374-b1f4-8b4725eed2bf",
   "metadata": {},
   "outputs": [
    {
     "name": "stdout",
     "output_type": "stream",
     "text": [
      "name       alice\n",
      "age           25\n",
      "gender    female\n",
      "Name: 0, dtype: object\n"
     ]
    }
   ],
   "source": [
    "dict={ \"name\" : [\"alice\" ,\"bob\", \"charlie\"],\n",
    "      \"age\": [25, 30,27],\n",
    "      \"gender\" : [\"female\" , \"male\" , \"female\"]}\n",
    "d= {'A': \"S\",\n",
    "   \"B\":\"J\"\n",
    "   }\n",
    "p = pd.DataFrame(dict)\n",
    "print(p.loc[0])"
   ]
  },
  {
   "cell_type": "code",
   "execution_count": 15,
   "id": "cd728461-dc2a-4493-966e-7f5f23e2cf27",
   "metadata": {},
   "outputs": [
    {
     "name": "stdout",
     "output_type": "stream",
     "text": [
      "Q4. What is ‘DataFrame’ in pandas and how is it different from pandas.series?\n",
      "Explain with an example.\n",
      "Pandas Series\t\n",
      "One-dimensional\t\n",
      "Homogenous – Series elements must be of the same data type.\t\n",
      "Size-immutable – Once created, the size of a Series object cannot be changed.\t\n",
      "Pandas DataFrame\n",
      "Two-dimensional\n",
      "Heterogenous – DataFrame elements can have different data types.\n",
      "Size-mutable – Elements can be dropped or added in an existing DataFrame.\n"
     ]
    }
   ],
   "source": [
    "q4=\"\"\"Q4. What is ‘DataFrame’ in pandas and how is it different from pandas.series?\n",
    "Explain with an example.\"\"\"\n",
    "print(q4)\n",
    "ans4=\"\"\"Pandas Series\t\n",
    "One-dimensional\t\n",
    "Homogenous – Series elements must be of the same data type.\t\n",
    "Size-immutable – Once created, the size of a Series object cannot be changed.\t\n",
    "Pandas DataFrame\n",
    "Two-dimensional\n",
    "Heterogenous – DataFrame elements can have different data types.\n",
    "Size-mutable – Elements can be dropped or added in an existing DataFrame.\"\"\"\n",
    "print(ans4)\n"
   ]
  },
  {
   "cell_type": "code",
   "execution_count": 16,
   "id": "5467e7a7-5022-4136-8bfb-d3861f4ad3ba",
   "metadata": {},
   "outputs": [
    {
     "name": "stdout",
     "output_type": "stream",
     "text": [
      "Q5. What are some common functions you can use to manipulate data in a Pandas \n",
      "DataFrame? Can you give an example of when you might use one of these functions?\n",
      "value_counts\n",
      "groupby\n",
      "loc and iloc\n",
      "unique and nunique\n",
      "Cut and qcut\n",
      "head()\n",
      "tail()\n",
      "describe()\n",
      "\n",
      "   sepal_length  sepal_width  petal_length  petal_width species\n",
      "0           5.1          3.5           1.4          0.2  setosa\n",
      "1           4.9          3.0           1.4          0.2  setosa\n",
      "2           4.7          3.2           1.3          0.2  setosa\n",
      "3           4.6          3.1           1.5          0.2  setosa\n",
      "4           5.0          3.6           1.4          0.2  setosa\n",
      "<class 'pandas.core.frame.DataFrame'>\n"
     ]
    },
    {
     "data": {
      "text/html": [
       "<div>\n",
       "<style scoped>\n",
       "    .dataframe tbody tr th:only-of-type {\n",
       "        vertical-align: middle;\n",
       "    }\n",
       "\n",
       "    .dataframe tbody tr th {\n",
       "        vertical-align: top;\n",
       "    }\n",
       "\n",
       "    .dataframe thead th {\n",
       "        text-align: right;\n",
       "    }\n",
       "</style>\n",
       "<table border=\"1\" class=\"dataframe\">\n",
       "  <thead>\n",
       "    <tr style=\"text-align: right;\">\n",
       "      <th></th>\n",
       "      <th>species</th>\n",
       "    </tr>\n",
       "  </thead>\n",
       "  <tbody>\n",
       "    <tr>\n",
       "      <th>0</th>\n",
       "      <td>setosa</td>\n",
       "    </tr>\n",
       "    <tr>\n",
       "      <th>1</th>\n",
       "      <td>setosa</td>\n",
       "    </tr>\n",
       "    <tr>\n",
       "      <th>2</th>\n",
       "      <td>setosa</td>\n",
       "    </tr>\n",
       "    <tr>\n",
       "      <th>3</th>\n",
       "      <td>setosa</td>\n",
       "    </tr>\n",
       "    <tr>\n",
       "      <th>4</th>\n",
       "      <td>setosa</td>\n",
       "    </tr>\n",
       "    <tr>\n",
       "      <th>...</th>\n",
       "      <td>...</td>\n",
       "    </tr>\n",
       "    <tr>\n",
       "      <th>145</th>\n",
       "      <td>virginica</td>\n",
       "    </tr>\n",
       "    <tr>\n",
       "      <th>146</th>\n",
       "      <td>virginica</td>\n",
       "    </tr>\n",
       "    <tr>\n",
       "      <th>147</th>\n",
       "      <td>virginica</td>\n",
       "    </tr>\n",
       "    <tr>\n",
       "      <th>148</th>\n",
       "      <td>virginica</td>\n",
       "    </tr>\n",
       "    <tr>\n",
       "      <th>149</th>\n",
       "      <td>virginica</td>\n",
       "    </tr>\n",
       "  </tbody>\n",
       "</table>\n",
       "<p>150 rows × 1 columns</p>\n",
       "</div>"
      ],
      "text/plain": [
       "       species\n",
       "0       setosa\n",
       "1       setosa\n",
       "2       setosa\n",
       "3       setosa\n",
       "4       setosa\n",
       "..         ...\n",
       "145  virginica\n",
       "146  virginica\n",
       "147  virginica\n",
       "148  virginica\n",
       "149  virginica\n",
       "\n",
       "[150 rows x 1 columns]"
      ]
     },
     "execution_count": 16,
     "metadata": {},
     "output_type": "execute_result"
    }
   ],
   "source": [
    "q5=\"\"\"Q5. What are some common functions you can use to manipulate data in a Pandas \n",
    "DataFrame? Can you give an example of when you might use one of these functions?\"\"\"\n",
    "print(q5)\n",
    "ans5=\"\"\"value_counts\n",
    "groupby\n",
    "loc and iloc\n",
    "unique and nunique\n",
    "Cut and qcut\n",
    "head()\n",
    "tail()\n",
    "describe()\n",
    "\"\"\"\n",
    "print(ans5)\n",
    "import seaborn as sns\n",
    "iris = sns.load_dataset(\"iris\")\n",
    "print(iris.head())\n",
    "print(type(iris))\n",
    "iris[[\"species\"]]"
   ]
  },
  {
   "cell_type": "code",
   "execution_count": 17,
   "id": "5a4b07ee-4226-4942-a110-1bb20ea4e6d5",
   "metadata": {},
   "outputs": [
    {
     "name": "stdout",
     "output_type": "stream",
     "text": [
      "Q6. Which of the following is mutable in nature Series, DataFrame, Panel?\n",
      "All Pandas data structures are value mutable (can be changed) and except Series all are\n",
      "size mutable. Series is size immutable.\n"
     ]
    }
   ],
   "source": [
    "q6 =\"Q6. Which of the following is mutable in nature Series, DataFrame, Panel?\"\n",
    "print(q6)\n",
    "ans6 =\"\"\"All Pandas data structures are value mutable (can be changed) and except Series all are\n",
    "size mutable. Series is size immutable.\"\"\"\n",
    "print(ans6)"
   ]
  },
  {
   "cell_type": "code",
   "execution_count": 24,
   "id": "3d1e037f-42ca-4b5b-9485-3b4bb98c892e",
   "metadata": {},
   "outputs": [
    {
     "name": "stdout",
     "output_type": "stream",
     "text": [
      "Q7. Create a DataFrame using multiple Series. Explain with an example.\n",
      "              0    1    2    3    4    5    6    7    8    9    ...  140  141  \\\n",
      "sepal_length  5.1  4.9  4.7  4.6  5.0  5.4  4.6  5.0  4.4  4.9  ...  6.7  6.9   \n",
      "sepal_width   3.5  3.0  3.2  3.1  3.6  3.9  3.4  3.4  2.9  3.1  ...  3.1  3.1   \n",
      "\n",
      "              142  143  144  145  146  147  148  149  \n",
      "sepal_length  5.8  6.8  6.7  6.7  6.3  6.5  6.2  5.9  \n",
      "sepal_width   2.7  3.2  3.3  3.0  2.5  3.0  3.4  3.0  \n",
      "\n",
      "[2 rows x 150 columns]\n"
     ]
    }
   ],
   "source": [
    "q7=\"Q7. Create a DataFrame using multiple Series. Explain with an example.\"\n",
    "print(q7)\n",
    "df = pd.DataFrame([iris['sepal_length'],iris['sepal_width']] )\n",
    "print(df)"
   ]
  },
  {
   "cell_type": "code",
   "execution_count": null,
   "id": "79e33619-4add-4163-920f-e01972266db6",
   "metadata": {},
   "outputs": [],
   "source": []
  },
  {
   "cell_type": "code",
   "execution_count": null,
   "id": "509f6693-a745-42a9-b44f-d26735b30554",
   "metadata": {},
   "outputs": [],
   "source": []
  }
 ],
 "metadata": {
  "kernelspec": {
   "display_name": "Python 3 (ipykernel)",
   "language": "python",
   "name": "python3"
  },
  "language_info": {
   "codemirror_mode": {
    "name": "ipython",
    "version": 3
   },
   "file_extension": ".py",
   "mimetype": "text/x-python",
   "name": "python",
   "nbconvert_exporter": "python",
   "pygments_lexer": "ipython3",
   "version": "3.10.8"
  }
 },
 "nbformat": 4,
 "nbformat_minor": 5
}
